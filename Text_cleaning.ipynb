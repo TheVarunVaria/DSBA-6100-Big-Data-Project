{
 "cells": [
  {
   "cell_type": "code",
   "execution_count": 6,
   "metadata": {
    "scrolled": true
   },
   "outputs": [
    {
     "name": "stdout",
     "output_type": "stream",
     "text": [
      "['/Users/TheVarunVaria/Downloads/Text/sy04smj.txt', '/Users/TheVarunVaria/Downloads/Text/dc05jms.txt', '/Users/TheVarunVaria/Downloads/Text/bm05jbe.txt', '/Users/TheVarunVaria/Downloads/Text/ap81asq.txt', '/Users/TheVarunVaria/Downloads/Text/bm72rm.txt', '/Users/TheVarunVaria/Downloads/Text/lb98gjhr.txt', '/Users/TheVarunVaria/Downloads/Text/gw94amj.txt', '/Users/TheVarunVaria/Downloads/Text/jv04amj.txt', '/Users/TheVarunVaria/Downloads/Text/chl09ijhrm.txt', '/Users/TheVarunVaria/Downloads/Text/jk16jbe.txt', '/Users/TheVarunVaria/Downloads/Text/hm96aaaj.txt', '/Users/TheVarunVaria/Downloads/Text/pl01smj.txt', '/Users/TheVarunVaria/Downloads/Text/cl09etp.txt', '/Users/TheVarunVaria/Downloads/Text/bc11amj.txt', '/Users/TheVarunVaria/Downloads/Text/km96smj.txt', '/Users/TheVarunVaria/Downloads/Text/ml01jom.txt', '/Users/TheVarunVaria/Downloads/Text/sh11jop.txt', '/Users/TheVarunVaria/Downloads/Text/kyr11ijsom.txt', '/Users/TheVarunVaria/Downloads/Text/zmzttj11jcp.txt', '/Users/TheVarunVaria/Downloads/Text/fcwz15jcp.txt', '/Users/TheVarunVaria/Downloads/Text/sgd05amj.txt', '/Users/TheVarunVaria/Downloads/Text/kevf03oem.txt', '/Users/TheVarunVaria/Downloads/Text/s14isbj.txt', '/Users/TheVarunVaria/Downloads/Text/ss98jbe.txt', '/Users/TheVarunVaria/Downloads/Text/cm80ar.txt', '/Users/TheVarunVaria/Downloads/Text/x13bse.txt', '/Users/TheVarunVaria/Downloads/Text/ct05crr.txt', '/Users/TheVarunVaria/Downloads/Text/sc02amj.txt', '/Users/TheVarunVaria/Downloads/Text/bgd05jom.txt', '/Users/TheVarunVaria/Downloads/Text/wg97smj.txt', '/Users/TheVarunVaria/Downloads/Text/ppr10amj.txt', '/Users/TheVarunVaria/Downloads/Text/vfpbph09jap.txt', '/Users/TheVarunVaria/Downloads/Text/d03jom.txt', '/Users/TheVarunVaria/Downloads/Text/mt09jms.txt', '/Users/TheVarunVaria/Downloads/Text/ck99smj.txt', '/Users/TheVarunVaria/Downloads/Text/w05pp.txt', '/Users/TheVarunVaria/Downloads/Text/mo05jbr.txt', '/Users/TheVarunVaria/Downloads/Text/jd98jms.txt', '/Users/TheVarunVaria/Downloads/Text/lk09amj.txt', '/Users/TheVarunVaria/Downloads/Text/gb04amj.txt', '/Users/TheVarunVaria/Downloads/Text/brm11jbe.txt', '/Users/TheVarunVaria/Downloads/Text/tv05smj.txt', '/Users/TheVarunVaria/Downloads/Text/azw06meq.txt', '/Users/TheVarunVaria/Downloads/Text/th08os.txt', '/Users/TheVarunVaria/Downloads/Text/bl00aeam.txt', '/Users/TheVarunVaria/Downloads/Text/w08csrem.txt', '/Users/TheVarunVaria/Downloads/Text/ntll98ijhrm.txt', '/Users/TheVarunVaria/Downloads/Text/m06aaaj.txt', '/Users/TheVarunVaria/Downloads/Text/cys14jcp.txt', '/Users/TheVarunVaria/Downloads/Text/bvvs05jap.txt', '/Users/TheVarunVaria/Downloads/Text/a94amj.txt', '/Users/TheVarunVaria/Downloads/Text/bnk00jbr.txt', '/Users/TheVarunVaria/Downloads/Text/cg05smj.txt', '/Users/TheVarunVaria/Downloads/Text/smfzmg06jech(Gazel Study).txt', '/Users/TheVarunVaria/Downloads/Text/hnn05ear.txt', '/Users/TheVarunVaria/Downloads/Text/gmcs03bjir.txt', '/Users/TheVarunVaria/Downloads/Text/rf97amj.txt', '/Users/TheVarunVaria/Downloads/Text/lkc12imds.txt', '/Users/TheVarunVaria/Downloads/Text/kb06ijhrm.txt', '/Users/TheVarunVaria/Downloads/Text/wq11amj.txt', '/Users/TheVarunVaria/Downloads/Text/smfzmg06jech(Whitehall II Study).txt', '/Users/TheVarunVaria/Downloads/Text/ekks05smj.txt', '/Users/TheVarunVaria/Downloads/Text/cs06amj.txt', '/Users/TheVarunVaria/Downloads/Text/szrgwdkd94mc.txt', '/Users/TheVarunVaria/Downloads/Text/ckc10ajm.txt', '/Users/TheVarunVaria/Downloads/Text/km00smj.txt', '/Users/TheVarunVaria/Downloads/Text/tn08amj.txt', '/Users/TheVarunVaria/Downloads/Text/mao10jbe.txt', '/Users/TheVarunVaria/Downloads/Text/lwlm14amj.txt', '/Users/TheVarunVaria/Downloads/Text/ms10jbe.txt', '/Users/TheVarunVaria/Downloads/Text/dhy00ms.txt', '/Users/TheVarunVaria/Downloads/Text/kavsc06amj.txt', '/Users/TheVarunVaria/Downloads/Text/cls06jbe.txt', '/Users/TheVarunVaria/Downloads/Text/cl10pp.txt', '/Users/TheVarunVaria/Downloads/Text/gac11ijtr.txt', '/Users/TheVarunVaria/Downloads/Text/r92aos.txt', '/Users/TheVarunVaria/Downloads/Text/b99ilr.txt', '/Users/TheVarunVaria/Downloads/Text/zn02smj.txt', '/Users/TheVarunVaria/Downloads/Text/dtba07jap.txt', '/Users/TheVarunVaria/Downloads/Text/dtkhb02sjweh.txt', '/Users/TheVarunVaria/Downloads/Text/lpaf13jcp.txt', '/Users/TheVarunVaria/Downloads/Text/rbm09jbe.txt', '/Users/TheVarunVaria/Downloads/Text/bw04jbr.txt', '/Users/TheVarunVaria/Downloads/Text/h95amj.txt', '/Users/TheVarunVaria/Downloads/Text/sn10csrem.txt', '/Users/TheVarunVaria/Downloads/Text/jy11bjir.txt', '/Users/TheVarunVaria/Downloads/Text/bl00amj.txt', '/Users/TheVarunVaria/Downloads/Text/mss88amj.txt', '/Users/TheVarunVaria/Downloads/Text/ar78amj.txt', '/Users/TheVarunVaria/Downloads/Text/vr87jom.txt', '/Users/TheVarunVaria/Downloads/Text/pwr09amj.txt', '/Users/TheVarunVaria/Downloads/Text/d00jom.txt', '/Users/TheVarunVaria/Downloads/Text/cg01aaaj.txt', '/Users/TheVarunVaria/Downloads/Text/hw01ijaar.txt', '/Users/TheVarunVaria/Downloads/Text/lm96os.txt', '/Users/TheVarunVaria/Downloads/Text/ce98jom.txt', '/Users/TheVarunVaria/Downloads/Text/bp94amj.txt', '/Users/TheVarunVaria/Downloads/Text/lat13imds.txt', '/Users/TheVarunVaria/Downloads/Text/gm90amj.txt', '/Users/TheVarunVaria/Downloads/Text/ms96amj.txt', '/Users/TheVarunVaria/Downloads/Text/ces06ee.txt', '/Users/TheVarunVaria/Downloads/Text/gi03pp.txt', '/Users/TheVarunVaria/Downloads/Text/cw84amj.txt', '/Users/TheVarunVaria/Downloads/Text/wb93smj.txt', '/Users/TheVarunVaria/Downloads/Text/breb08jom.txt', '/Users/TheVarunVaria/Downloads/Text/bs05jams.txt', '/Users/TheVarunVaria/Downloads/Text/g03ijhrm.txt', '/Users/TheVarunVaria/Downloads/Text/mq13os.txt', '/Users/TheVarunVaria/Downloads/Text/m10bse.txt', '/Users/TheVarunVaria/Downloads/Text/cdg07sjp.txt', '/Users/TheVarunVaria/Downloads/Text/tr93pp.txt', '/Users/TheVarunVaria/Downloads/Text/nw09rqfa.txt', '/Users/TheVarunVaria/Downloads/Text/dj01amj.txt', '/Users/TheVarunVaria/Downloads/Text/cw09smj.txt', '/Users/TheVarunVaria/Downloads/Text/bp04beer.txt', '/Users/TheVarunVaria/Downloads/Text/adg08hrm.txt', '/Users/TheVarunVaria/Downloads/Text/atc05ijhrm.txt', '/Users/TheVarunVaria/Downloads/Text/bb95jibs.txt', '/Users/TheVarunVaria/Downloads/Text/vt06mr.txt', '/Users/TheVarunVaria/Downloads/Text/mfb09jbe.txt', '/Users/TheVarunVaria/Downloads/Text/ctsm08jem.txt', '/Users/TheVarunVaria/Downloads/Text/sz09amj.txt', '/Users/TheVarunVaria/Downloads/Text/snw07jom.txt', '/Users/TheVarunVaria/Downloads/Text/pbf03jowb.txt', '/Users/TheVarunVaria/Downloads/Text/chl08hrm.txt', '/Users/TheVarunVaria/Downloads/Text/dd96amj.txt', '/Users/TheVarunVaria/Downloads/Text/bss03amj.txt', '/Users/TheVarunVaria/Downloads/Text/bc15apjm.txt', '/Users/TheVarunVaria/Downloads/Text/wqk10jbe.txt', '/Users/TheVarunVaria/Downloads/Text/rffa98jom.txt', '/Users/TheVarunVaria/Downloads/Text/ba05joop.txt', '/Users/TheVarunVaria/Downloads/Text/clrv08aos.txt', '/Users/TheVarunVaria/Downloads/Text/cww15ijpdlm.txt', '/Users/TheVarunVaria/Downloads/Text/bp06jms.txt', '/Users/TheVarunVaria/Downloads/Text/afglmm10hrm.txt', '/Users/TheVarunVaria/Downloads/Text/lcy12ijebm.txt', '/Users/TheVarunVaria/Downloads/Text/tlwt07jap.txt', '/Users/TheVarunVaria/Downloads/Text/y07tqm.txt', '/Users/TheVarunVaria/Downloads/Text/gwde00jom.txt', '/Users/TheVarunVaria/Downloads/Text/gp01bjir.txt', '/Users/TheVarunVaria/Downloads/Text/am79amj.txt', '/Users/TheVarunVaria/Downloads/Text/pb00amj.txt', '/Users/TheVarunVaria/Downloads/Text/kl02ms.txt', '/Users/TheVarunVaria/Downloads/Text/g01ilr.txt', '/Users/TheVarunVaria/Downloads/Text/lw98hrdq.txt', '/Users/TheVarunVaria/Downloads/Text/wa95amj.txt', '/Users/TheVarunVaria/Downloads/Text/tg96amj.txt', '/Users/TheVarunVaria/Downloads/Text/tbbc09halmstaduniversity.txt', '/Users/TheVarunVaria/Downloads/Text/t05ijhrm.txt', '/Users/TheVarunVaria/Downloads/Text/ltg13jcp.txt', '/Users/TheVarunVaria/Downloads/Text/k03jom.txt', '/Users/TheVarunVaria/Downloads/Text/zi06amj.txt', '/Users/TheVarunVaria/Downloads/Text/fs90amj.txt', '/Users/TheVarunVaria/Downloads/Text/sdjl05amj.txt', '/Users/TheVarunVaria/Downloads/Text/ss07etp.txt', '/Users/TheVarunVaria/Downloads/Text/fo05jom.txt', '/Users/TheVarunVaria/Downloads/Text/gwm11pp.txt', '/Users/TheVarunVaria/Downloads/Text/w02jom.txt', '/Users/TheVarunVaria/Downloads/Text/b04ilr.txt', '/Users/TheVarunVaria/Downloads/Text/zsl14apjm.txt', '/Users/TheVarunVaria/Downloads/Text/ay14ijbs.txt', '/Users/TheVarunVaria/Downloads/Text/clv11ijhrm.txt']\n"
     ]
    }
   ],
   "source": [
    "import re\n",
    "import random\n",
    "import nltk\n",
    "import numpy as np\n",
    "import matplotlib.pyplot as plt\n",
    "from wordcloud import WordCloud\n",
    "from nltk import sent_tokenize\n",
    "import glob\n",
    "from nltk.tokenize import word_tokenize\n",
    "from gensim.summarization.summarizer import summarize\n",
    "from gensim.summarization import keywords\n",
    "txt_files = glob.glob(\"/Users/TheVarunVaria/Downloads/Text/*.txt\")\n",
    "print(txt_files)"
   ]
  },
  {
   "cell_type": "code",
   "execution_count": 7,
   "metadata": {
    "scrolled": false
   },
   "outputs": [
    {
     "ename": "LookupError",
     "evalue": "\n**********************************************************************\n  Resource \u001b[93mpunkt\u001b[0m not found.\n  Please use the NLTK Downloader to obtain the resource:\n\n  \u001b[31m>>> import nltk\n  >>> nltk.download('punkt')\n  \u001b[0m\n  Searched in:\n    - '/Users/thevarunvaria/nltk_data'\n    - '/usr/share/nltk_data'\n    - '/usr/local/share/nltk_data'\n    - '/usr/lib/nltk_data'\n    - '/usr/local/lib/nltk_data'\n    - '/Users/thevarunvaria/anaconda3/nltk_data'\n    - '/Users/thevarunvaria/anaconda3/share/nltk_data'\n    - '/Users/thevarunvaria/anaconda3/lib/nltk_data'\n    - ''\n**********************************************************************\n",
     "output_type": "error",
     "traceback": [
      "\u001b[0;31m---------------------------------------------------------------------------\u001b[0m",
      "\u001b[0;31mLookupError\u001b[0m                               Traceback (most recent call last)",
      "\u001b[0;32m<ipython-input-7-581af74611a2>\u001b[0m in \u001b[0;36m<module>\u001b[0;34m()\u001b[0m\n\u001b[1;32m      5\u001b[0m     \u001b[0mtext1\u001b[0m\u001b[0;34m=\u001b[0m \u001b[0;34m''\u001b[0m\u001b[0;34m.\u001b[0m\u001b[0mjoin\u001b[0m\u001b[0;34m(\u001b[0m\u001b[0mtext\u001b[0m\u001b[0;34m)\u001b[0m\u001b[0;34m\u001b[0m\u001b[0m\n\u001b[1;32m      6\u001b[0m     \u001b[0;31m#data= re.findall(\"^[a-zA-Z0-9.\", text1)\u001b[0m\u001b[0;34m\u001b[0m\u001b[0;34m\u001b[0m\u001b[0m\n\u001b[0;32m----> 7\u001b[0;31m     \u001b[0msentences\u001b[0m \u001b[0;34m=\u001b[0m \u001b[0msent_tokenize\u001b[0m\u001b[0;34m(\u001b[0m\u001b[0mtext\u001b[0m\u001b[0;34m)\u001b[0m\u001b[0;34m\u001b[0m\u001b[0m\n\u001b[0m\u001b[1;32m      8\u001b[0m         \u001b[0;31m#print(sentences)\u001b[0m\u001b[0;34m\u001b[0m\u001b[0;34m\u001b[0m\u001b[0m\n\u001b[1;32m      9\u001b[0m     \u001b[0mprint\u001b[0m\u001b[0;34m(\u001b[0m\u001b[0;34m\"\\n\\n*****************************************************************TOKENS**************************************************************************************\"\u001b[0m\u001b[0;34m)\u001b[0m\u001b[0;34m\u001b[0m\u001b[0m\n",
      "\u001b[0;32m~/anaconda3/lib/python3.7/site-packages/nltk/tokenize/__init__.py\u001b[0m in \u001b[0;36msent_tokenize\u001b[0;34m(text, language)\u001b[0m\n\u001b[1;32m     92\u001b[0m     \u001b[0;34m:\u001b[0m\u001b[0mparam\u001b[0m \u001b[0mlanguage\u001b[0m\u001b[0;34m:\u001b[0m \u001b[0mthe\u001b[0m \u001b[0mmodel\u001b[0m \u001b[0mname\u001b[0m \u001b[0;32min\u001b[0m \u001b[0mthe\u001b[0m \u001b[0mPunkt\u001b[0m \u001b[0mcorpus\u001b[0m\u001b[0;34m\u001b[0m\u001b[0m\n\u001b[1;32m     93\u001b[0m     \"\"\"\n\u001b[0;32m---> 94\u001b[0;31m     \u001b[0mtokenizer\u001b[0m \u001b[0;34m=\u001b[0m \u001b[0mload\u001b[0m\u001b[0;34m(\u001b[0m\u001b[0;34m'tokenizers/punkt/{0}.pickle'\u001b[0m\u001b[0;34m.\u001b[0m\u001b[0mformat\u001b[0m\u001b[0;34m(\u001b[0m\u001b[0mlanguage\u001b[0m\u001b[0;34m)\u001b[0m\u001b[0;34m)\u001b[0m\u001b[0;34m\u001b[0m\u001b[0m\n\u001b[0m\u001b[1;32m     95\u001b[0m     \u001b[0;32mreturn\u001b[0m \u001b[0mtokenizer\u001b[0m\u001b[0;34m.\u001b[0m\u001b[0mtokenize\u001b[0m\u001b[0;34m(\u001b[0m\u001b[0mtext\u001b[0m\u001b[0;34m)\u001b[0m\u001b[0;34m\u001b[0m\u001b[0m\n\u001b[1;32m     96\u001b[0m \u001b[0;34m\u001b[0m\u001b[0m\n",
      "\u001b[0;32m~/anaconda3/lib/python3.7/site-packages/nltk/data.py\u001b[0m in \u001b[0;36mload\u001b[0;34m(resource_url, format, cache, verbose, logic_parser, fstruct_reader, encoding)\u001b[0m\n\u001b[1;32m    834\u001b[0m \u001b[0;34m\u001b[0m\u001b[0m\n\u001b[1;32m    835\u001b[0m     \u001b[0;31m# Load the resource.\u001b[0m\u001b[0;34m\u001b[0m\u001b[0;34m\u001b[0m\u001b[0m\n\u001b[0;32m--> 836\u001b[0;31m     \u001b[0mopened_resource\u001b[0m \u001b[0;34m=\u001b[0m \u001b[0m_open\u001b[0m\u001b[0;34m(\u001b[0m\u001b[0mresource_url\u001b[0m\u001b[0;34m)\u001b[0m\u001b[0;34m\u001b[0m\u001b[0m\n\u001b[0m\u001b[1;32m    837\u001b[0m \u001b[0;34m\u001b[0m\u001b[0m\n\u001b[1;32m    838\u001b[0m     \u001b[0;32mif\u001b[0m \u001b[0mformat\u001b[0m \u001b[0;34m==\u001b[0m \u001b[0;34m'raw'\u001b[0m\u001b[0;34m:\u001b[0m\u001b[0;34m\u001b[0m\u001b[0m\n",
      "\u001b[0;32m~/anaconda3/lib/python3.7/site-packages/nltk/data.py\u001b[0m in \u001b[0;36m_open\u001b[0;34m(resource_url)\u001b[0m\n\u001b[1;32m    952\u001b[0m \u001b[0;34m\u001b[0m\u001b[0m\n\u001b[1;32m    953\u001b[0m     \u001b[0;32mif\u001b[0m \u001b[0mprotocol\u001b[0m \u001b[0;32mis\u001b[0m \u001b[0;32mNone\u001b[0m \u001b[0;32mor\u001b[0m \u001b[0mprotocol\u001b[0m\u001b[0;34m.\u001b[0m\u001b[0mlower\u001b[0m\u001b[0;34m(\u001b[0m\u001b[0;34m)\u001b[0m \u001b[0;34m==\u001b[0m \u001b[0;34m'nltk'\u001b[0m\u001b[0;34m:\u001b[0m\u001b[0;34m\u001b[0m\u001b[0m\n\u001b[0;32m--> 954\u001b[0;31m         \u001b[0;32mreturn\u001b[0m \u001b[0mfind\u001b[0m\u001b[0;34m(\u001b[0m\u001b[0mpath_\u001b[0m\u001b[0;34m,\u001b[0m \u001b[0mpath\u001b[0m \u001b[0;34m+\u001b[0m \u001b[0;34m[\u001b[0m\u001b[0;34m''\u001b[0m\u001b[0;34m]\u001b[0m\u001b[0;34m)\u001b[0m\u001b[0;34m.\u001b[0m\u001b[0mopen\u001b[0m\u001b[0;34m(\u001b[0m\u001b[0;34m)\u001b[0m\u001b[0;34m\u001b[0m\u001b[0m\n\u001b[0m\u001b[1;32m    955\u001b[0m     \u001b[0;32melif\u001b[0m \u001b[0mprotocol\u001b[0m\u001b[0;34m.\u001b[0m\u001b[0mlower\u001b[0m\u001b[0;34m(\u001b[0m\u001b[0;34m)\u001b[0m \u001b[0;34m==\u001b[0m \u001b[0;34m'file'\u001b[0m\u001b[0;34m:\u001b[0m\u001b[0;34m\u001b[0m\u001b[0m\n\u001b[1;32m    956\u001b[0m         \u001b[0;31m# urllib might not use mode='rb', so handle this one ourselves:\u001b[0m\u001b[0;34m\u001b[0m\u001b[0;34m\u001b[0m\u001b[0m\n",
      "\u001b[0;32m~/anaconda3/lib/python3.7/site-packages/nltk/data.py\u001b[0m in \u001b[0;36mfind\u001b[0;34m(resource_name, paths)\u001b[0m\n\u001b[1;32m    673\u001b[0m     \u001b[0msep\u001b[0m \u001b[0;34m=\u001b[0m \u001b[0;34m'*'\u001b[0m \u001b[0;34m*\u001b[0m \u001b[0;36m70\u001b[0m\u001b[0;34m\u001b[0m\u001b[0m\n\u001b[1;32m    674\u001b[0m     \u001b[0mresource_not_found\u001b[0m \u001b[0;34m=\u001b[0m \u001b[0;34m'\\n%s\\n%s\\n%s\\n'\u001b[0m \u001b[0;34m%\u001b[0m \u001b[0;34m(\u001b[0m\u001b[0msep\u001b[0m\u001b[0;34m,\u001b[0m \u001b[0mmsg\u001b[0m\u001b[0;34m,\u001b[0m \u001b[0msep\u001b[0m\u001b[0;34m)\u001b[0m\u001b[0;34m\u001b[0m\u001b[0m\n\u001b[0;32m--> 675\u001b[0;31m     \u001b[0;32mraise\u001b[0m \u001b[0mLookupError\u001b[0m\u001b[0;34m(\u001b[0m\u001b[0mresource_not_found\u001b[0m\u001b[0;34m)\u001b[0m\u001b[0;34m\u001b[0m\u001b[0m\n\u001b[0m\u001b[1;32m    676\u001b[0m \u001b[0;34m\u001b[0m\u001b[0m\n\u001b[1;32m    677\u001b[0m \u001b[0;34m\u001b[0m\u001b[0m\n",
      "\u001b[0;31mLookupError\u001b[0m: \n**********************************************************************\n  Resource \u001b[93mpunkt\u001b[0m not found.\n  Please use the NLTK Downloader to obtain the resource:\n\n  \u001b[31m>>> import nltk\n  >>> nltk.download('punkt')\n  \u001b[0m\n  Searched in:\n    - '/Users/thevarunvaria/nltk_data'\n    - '/usr/share/nltk_data'\n    - '/usr/local/share/nltk_data'\n    - '/usr/lib/nltk_data'\n    - '/usr/local/lib/nltk_data'\n    - '/Users/thevarunvaria/anaconda3/nltk_data'\n    - '/Users/thevarunvaria/anaconda3/share/nltk_data'\n    - '/Users/thevarunvaria/anaconda3/lib/nltk_data'\n    - ''\n**********************************************************************\n"
     ]
    }
   ],
   "source": [
    "for file in txt_files:\n",
    "    file1 = open(file, 'rt',encoding=\"utf8\")\n",
    "    text = file1.read()\n",
    "    file1.close()\n",
    "    text1= ''.join(text)\n",
    "    #data= re.findall(\"^[a-zA-Z0-9.\", text1)\n",
    "    sentences = sent_tokenize(text)\n",
    "        #print(sentences)\n",
    "    print(\"\\n\\n*****************************************************************TOKENS**************************************************************************************\")\n",
    "    tokens = word_tokenize(text)\n",
    "    # remove all tokens that are not alphabetic\n",
    "    words = [word for word in tokens if word.isalnum()]\n",
    "    cleaned_data= ''.join(words)\n",
    "    print(words[:1000])\n",
    "    print(\"------------------------------------------------------TEXT SUMMARIZATION---------------------------------------------------------\")\n",
    "    print ('Summary:')\n",
    "    print (summarize(text, ratio=0.01))\n",
    "    \n",
    "    print ('\\nKeywords:')\n",
    "    print (keywords(text, ratio=0.01))"
   ]
  },
  {
   "cell_type": "code",
   "execution_count": 14,
   "metadata": {},
   "outputs": [
    {
     "name": "stdout",
     "output_type": "stream",
     "text": [
      "[nltk_data] Downloading package stopwords to\n",
      "[nltk_data]     C:\\Users\\singh\\AppData\\Roaming\\nltk_data...\n",
      "[nltk_data]   Unzipping corpora\\stopwords.zip.\n"
     ]
    }
   ],
   "source": []
  },
  {
   "cell_type": "code",
   "execution_count": 15,
   "metadata": {},
   "outputs": [
    {
     "ename": "TypeError",
     "evalue": "'map' object is not subscriptable",
     "output_type": "error",
     "traceback": [
      "\u001b[1;31m---------------------------------------------------------------------------\u001b[0m",
      "\u001b[1;31mTypeError\u001b[0m                                 Traceback (most recent call last)",
      "\u001b[1;32m<ipython-input-15-64bd90465750>\u001b[0m in \u001b[0;36m<module>\u001b[1;34m()\u001b[0m\n\u001b[0;32m      8\u001b[0m \u001b[1;33m\u001b[0m\u001b[0m\n\u001b[0;32m      9\u001b[0m     \u001b[0mfs\u001b[0m \u001b[1;33m=\u001b[0m \u001b[0mFrequencySummarizer\u001b[0m\u001b[1;33m(\u001b[0m\u001b[1;33m)\u001b[0m\u001b[1;33m\u001b[0m\u001b[0m\n\u001b[1;32m---> 10\u001b[1;33m     \u001b[1;32mfor\u001b[0m \u001b[0mdata\u001b[0m \u001b[1;32min\u001b[0m \u001b[0mto_summarize\u001b[0m\u001b[1;33m[\u001b[0m\u001b[1;33m:\u001b[0m\u001b[1;36m5\u001b[0m\u001b[1;33m]\u001b[0m\u001b[1;33m:\u001b[0m\u001b[1;33m\u001b[0m\u001b[0m\n\u001b[0m\u001b[0;32m     11\u001b[0m         \u001b[0mtitle\u001b[0m\u001b[1;33m,\u001b[0m \u001b[0mdata\u001b[0m\u001b[1;33m\u001b[0m\u001b[0m\n\u001b[0;32m     12\u001b[0m         \u001b[0mprint\u001b[0m \u001b[1;33m(\u001b[0m\u001b[1;34m'----------------------------------'\u001b[0m\u001b[1;33m)\u001b[0m\u001b[1;33m\u001b[0m\u001b[0m\n",
      "\u001b[1;31mTypeError\u001b[0m: 'map' object is not subscriptable"
     ]
    }
   ],
   "source": []
  },
  {
   "cell_type": "code",
   "execution_count": null,
   "metadata": {},
   "outputs": [],
   "source": []
  }
 ],
 "metadata": {
  "kernelspec": {
   "display_name": "Python 3",
   "language": "python",
   "name": "python3"
  },
  "language_info": {
   "codemirror_mode": {
    "name": "ipython",
    "version": 3
   },
   "file_extension": ".py",
   "mimetype": "text/x-python",
   "name": "python",
   "nbconvert_exporter": "python",
   "pygments_lexer": "ipython3",
   "version": "3.7.0"
  }
 },
 "nbformat": 4,
 "nbformat_minor": 2
}
